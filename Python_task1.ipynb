{
 "cells": [
  {
   "cell_type": "code",
   "execution_count": 40,
   "id": "29fb00a0-a69a-46e5-8bfc-935313f1d70f",
   "metadata": {},
   "outputs": [
    {
     "name": "stdout",
     "output_type": "stream",
     "text": [
      "Addition: 11.4\n",
      "substraction: -4.6\n",
      "Multiplication: 27.2\n",
      "Division: 0.425\n"
     ]
    }
   ],
   "source": [
    "#Task of Airthmatic operation\n",
    "num1=3.4\n",
    "num2=8\n",
    "\n",
    "print(\"Addition:\",num1+num2)\n",
    "print(\"substraction:\",num1-num2)\n",
    "print(\"Multiplication:\",num1*num2)\n",
    "print(\"Division:\",num1/num2)"
   ]
  },
  {
   "cell_type": "code",
   "execution_count": 41,
   "id": "41d37937-6672-4351-89a1-c79c2a35172f",
   "metadata": {},
   "outputs": [
    {
     "name": "stdout",
     "output_type": "stream",
     "text": [
      "College\n",
      "College of Engineering\n"
     ]
    }
   ],
   "source": [
    "#Manipulation of string task\n",
    "name=\"College\"\n",
    "print(name)\n",
    "fullname=name + \" of Engineering\"\n",
    "print(fullname)\n"
   ]
  },
  {
   "cell_type": "code",
   "execution_count": 42,
   "id": "3865002d-3784-46be-938a-7343491e8063",
   "metadata": {},
   "outputs": [
    {
     "name": "stdout",
     "output_type": "stream",
     "text": [
      "odd num\n"
     ]
    }
   ],
   "source": [
    "#Conditional statements task\n",
    "num=7\n",
    "if(num%2==0):\n",
    "    print(\"Even num\")\n",
    "else:\n",
    "    print(\"odd num\")"
   ]
  },
  {
   "cell_type": "code",
   "execution_count": 43,
   "id": "6b2b6025-3431-46be-8fbc-792b4752673d",
   "metadata": {},
   "outputs": [],
   "source": [
    "import pandas as pd"
   ]
  },
  {
   "cell_type": "code",
   "execution_count": 44,
   "id": "973567b4-6b78-41f2-8f6b-148ccf308531",
   "metadata": {},
   "outputs": [
    {
     "name": "stdout",
     "output_type": "stream",
     "text": [
      "['A', 'B', 'C']\n",
      "C\n",
      "updated: ['A', 'B', 4]\n"
     ]
    }
   ],
   "source": [
    "#task of List\n",
    "l1=['A','B','C']\n",
    "print(l1)\n",
    "print(l1[2]) #print 2nd position ele\n",
    "\n",
    "l1.append('E')#add ele\n",
    "l1.remove('C')#remove ele\n",
    "\n",
    "l1[2]=4\n",
    "\n",
    "print(\"updated:\",l1)"
   ]
  },
  {
   "cell_type": "code",
   "execution_count": 45,
   "id": "21f891a5-e8f6-4a78-9070-88125938bea2",
   "metadata": {},
   "outputs": [
    {
     "name": "stdout",
     "output_type": "stream",
     "text": [
      "{'fruit': 'Apple', 'color': 'red'}\n",
      "Apple\n",
      "updated {'fruit': 'strawbeery', 'quantity': 2}\n"
     ]
    }
   ],
   "source": [
    "#task of dictionary\n",
    "\n",
    "dict={\"fruit\": \"Apple\",\"color\": \"red\"}\n",
    "print(dict)\n",
    "\n",
    "#printing value by key\n",
    "print(dict[\"fruit\"])\n",
    "\n",
    "#adding keypairs\n",
    "dict[\"quantity\"]=2\n",
    "#deleting keypairs\n",
    "del dict[\"color\"]\n",
    "\n",
    "#modifying dictionary\n",
    "dict[\"fruit\"]=\"strawbeery\"\n",
    "print(\"updated\",dict)"
   ]
  },
  {
   "cell_type": "code",
   "execution_count": 46,
   "id": "22652ab8-ac94-4e66-b5e7-c3ca65631ea9",
   "metadata": {},
   "outputs": [
    {
     "name": "stdout",
     "output_type": "stream",
     "text": [
      "(10, 20, 30, 40)\n",
      "(10, 20)\n",
      "Updated: (10, 30, 40)\n"
     ]
    }
   ],
   "source": [
    "#task of tuples\n",
    "tuple=(10,20,30,40)\n",
    "print( tuple)\n",
    "\n",
    "print(tuple[:2]) #Fetching two ele\n",
    "newTuple=tuple[:1]+tuple[2:]\n",
    "print(\"Updated:\",newTuple)\n"
   ]
  },
  {
   "cell_type": "code",
   "execution_count": null,
   "id": "f79e06ee-17b9-446a-a8c2-7afe742e9465",
   "metadata": {},
   "outputs": [],
   "source": []
  },
  {
   "cell_type": "code",
   "execution_count": null,
   "id": "47aa8dba-a2f0-44cd-8387-77f57a7c4fe5",
   "metadata": {},
   "outputs": [],
   "source": []
  },
  {
   "cell_type": "code",
   "execution_count": null,
   "id": "c6d40b6d-4f96-4ee0-8384-c2614f4f9ecb",
   "metadata": {},
   "outputs": [],
   "source": []
  }
 ],
 "metadata": {
  "kernelspec": {
   "display_name": "Python 3 (ipykernel)",
   "language": "python",
   "name": "python3"
  },
  "language_info": {
   "codemirror_mode": {
    "name": "ipython",
    "version": 3
   },
   "file_extension": ".py",
   "mimetype": "text/x-python",
   "name": "python",
   "nbconvert_exporter": "python",
   "pygments_lexer": "ipython3",
   "version": "3.12.4"
  }
 },
 "nbformat": 4,
 "nbformat_minor": 5
}
